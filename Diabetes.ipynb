{
 "cells": [
  {
   "attachments": {},
   "cell_type": "markdown",
   "metadata": {},
   "source": [
    "### Modelo 2"
   ]
  },
  {
   "cell_type": "code",
   "execution_count": 1,
   "metadata": {},
   "outputs": [],
   "source": [
    "import pandas as pd\n",
    "import numpy as np\n",
    "from sklearn.preprocessing import StandardScaler\n",
    "from sklearn.model_selection import train_test_split\n",
    "import tensorflow as tf\n",
    "from tensorflow import keras\n",
    "from tensorflow.keras import layers\n",
    "#from keras.models import Sequential\n",
    "#from keras.layers import Dense\n",
    "#from keras.layers import Dropout\n",
    "#from keras import regularizers\n",
    "#from keras.regularizers import l2"
   ]
  },
  {
   "cell_type": "code",
   "execution_count": 18,
   "metadata": {},
   "outputs": [],
   "source": [
    "#Carga de Dataset desde bucket GCP\n",
    "df = pd.read_csv('https://storage.googleapis.com/dataset_bucket_bot/glucosa.csv',delimiter=';',encoding='utf-8')\n",
    "df['diabetic'] = df['diabetic'].replace('D', 1).replace('N', 0)"
   ]
  },
  {
   "cell_type": "code",
   "execution_count": 19,
   "metadata": {},
   "outputs": [],
   "source": [
    "#Separacion del dataset en grupos de entrenamiento y grupos de testeo\n",
    "X = df.drop('glucose', axis=1)\n",
    "y = df['glucose']\n",
    "X_train, X_test, y_train, y_test = train_test_split(X, y, test_size=0.2)\n"
   ]
  },
  {
   "cell_type": "code",
   "execution_count": 21,
   "metadata": {},
   "outputs": [],
   "source": [
    "#Dataframes auxiliares para exportacion antes antes de transformaciones\n",
    "X_train_df = X_train\n",
    "X_test_df = X_test\n",
    "y_train_df = y_train\n",
    "y_test_df = y_test"
   ]
  },
  {
   "cell_type": "code",
   "execution_count": 29,
   "metadata": {},
   "outputs": [],
   "source": [
    "#Exportacion de dataframes de entrenamiento y testeo\n",
    "X_train_df.to_csv('X_train.csv',index=False)\n",
    "X_test_df.to_csv('X_test.csv',index=False)\n",
    "y_train_df.to_csv('y_train.csv',index=False)\n",
    "y_test_df.to_csv('y_test.csv',index=False)"
   ]
  },
  {
   "cell_type": "code",
   "execution_count": 22,
   "metadata": {},
   "outputs": [
    {
     "name": "stderr",
     "output_type": "stream",
     "text": [
      "c:\\Users\\USUARIO\\AppData\\Local\\Programs\\Python\\Python310\\lib\\site-packages\\sklearn\\base.py:432: UserWarning: X has feature names, but StandardScaler was fitted without feature names\n",
      "  warnings.warn(\n"
     ]
    }
   ],
   "source": [
    "# Convertir los datos a tensores\n",
    "X_train = tf.convert_to_tensor(X_train.values)\n",
    "y_train = tf.convert_to_tensor(y_train.values)\n",
    "#Estandarizando entradas\n",
    "sc = StandardScaler()\n",
    "X_train = sc.fit_transform(X_train)\n",
    "X_test = sc.transform(X_test)\n"
   ]
  },
  {
   "cell_type": "code",
   "execution_count": 24,
   "metadata": {},
   "outputs": [
    {
     "name": "stdout",
     "output_type": "stream",
     "text": [
      "Epoch 1/35\n",
      "1358/1358 - 2s - loss: 1847.0325 - mae: 25.6699 - mse: 1847.0325 - val_loss: 1621.6149 - val_mae: 26.4434 - val_mse: 1621.6149 - 2s/epoch - 1ms/step\n",
      "Epoch 2/35\n",
      "1358/1358 - 1s - loss: 1516.6740 - mae: 22.7399 - mse: 1516.6740 - val_loss: 1614.7070 - val_mae: 26.6308 - val_mse: 1614.7070 - 1s/epoch - 850us/step\n",
      "Epoch 3/35\n",
      "1358/1358 - 1s - loss: 1503.1643 - mae: 22.4029 - mse: 1503.1643 - val_loss: 1519.7612 - val_mae: 21.7934 - val_mse: 1519.7612 - 1s/epoch - 850us/step\n",
      "Epoch 4/35\n",
      "1358/1358 - 1s - loss: 1499.7196 - mae: 22.3578 - mse: 1499.7196 - val_loss: 1510.5154 - val_mae: 22.3628 - val_mse: 1510.5154 - 1s/epoch - 836us/step\n",
      "Epoch 5/35\n",
      "1358/1358 - 1s - loss: 1503.8530 - mae: 22.1413 - mse: 1503.8530 - val_loss: 1512.9503 - val_mae: 21.9450 - val_mse: 1512.9503 - 1s/epoch - 843us/step\n",
      "Epoch 6/35\n",
      "1358/1358 - 1s - loss: 1496.2960 - mae: 22.1228 - mse: 1496.2960 - val_loss: 1562.3792 - val_mae: 24.7291 - val_mse: 1562.3792 - 1s/epoch - 842us/step\n",
      "Epoch 7/35\n",
      "1358/1358 - 1s - loss: 1494.2479 - mae: 21.9954 - mse: 1494.2479 - val_loss: 1536.7966 - val_mae: 23.8562 - val_mse: 1536.7966 - 1s/epoch - 838us/step\n",
      "Epoch 8/35\n",
      "1358/1358 - 1s - loss: 1500.6826 - mae: 21.9957 - mse: 1500.6826 - val_loss: 1533.9688 - val_mae: 23.1790 - val_mse: 1533.9688 - 1s/epoch - 836us/step\n",
      "Epoch 9/35\n",
      "1358/1358 - 1s - loss: 1493.6404 - mae: 21.9423 - mse: 1493.6404 - val_loss: 1538.3109 - val_mae: 20.9931 - val_mse: 1538.3109 - 1s/epoch - 865us/step\n",
      "Epoch 10/35\n",
      "1358/1358 - 1s - loss: 1492.2915 - mae: 21.8837 - mse: 1492.2915 - val_loss: 1524.1136 - val_mae: 21.5720 - val_mse: 1524.1136 - 1s/epoch - 840us/step\n",
      "Epoch 11/35\n",
      "1358/1358 - 1s - loss: 1492.5552 - mae: 21.8459 - mse: 1492.5552 - val_loss: 1517.2141 - val_mae: 23.1606 - val_mse: 1517.2141 - 1s/epoch - 854us/step\n",
      "Epoch 12/35\n",
      "1358/1358 - 1s - loss: 1492.7852 - mae: 21.8098 - mse: 1492.7852 - val_loss: 1532.3676 - val_mae: 22.5986 - val_mse: 1532.3676 - 1s/epoch - 850us/step\n",
      "Epoch 13/35\n",
      "1358/1358 - 1s - loss: 1483.0023 - mae: 21.7716 - mse: 1483.0023 - val_loss: 1597.0339 - val_mae: 24.7817 - val_mse: 1597.0339 - 1s/epoch - 848us/step\n",
      "Epoch 14/35\n",
      "1358/1358 - 1s - loss: 1488.7634 - mae: 21.8513 - mse: 1488.7634 - val_loss: 1508.1969 - val_mae: 22.7309 - val_mse: 1508.1969 - 1s/epoch - 834us/step\n",
      "Epoch 15/35\n",
      "1358/1358 - 1s - loss: 1483.5133 - mae: 21.7908 - mse: 1483.5133 - val_loss: 1553.7045 - val_mae: 21.3506 - val_mse: 1553.7045 - 1s/epoch - 842us/step\n",
      "Epoch 16/35\n",
      "1358/1358 - 1s - loss: 1487.0653 - mae: 21.7958 - mse: 1487.0653 - val_loss: 1548.2982 - val_mae: 24.4302 - val_mse: 1548.2982 - 1s/epoch - 865us/step\n",
      "Epoch 17/35\n",
      "1358/1358 - 1s - loss: 1485.4347 - mae: 21.7376 - mse: 1485.4347 - val_loss: 1510.2427 - val_mae: 22.2341 - val_mse: 1510.2427 - 1s/epoch - 853us/step\n",
      "Epoch 18/35\n",
      "1358/1358 - 1s - loss: 1485.8672 - mae: 21.7066 - mse: 1485.8672 - val_loss: 1581.7972 - val_mae: 25.0843 - val_mse: 1581.7972 - 1s/epoch - 845us/step\n",
      "Epoch 19/35\n",
      "1358/1358 - 1s - loss: 1486.2611 - mae: 21.6882 - mse: 1486.2611 - val_loss: 1563.3878 - val_mae: 24.7274 - val_mse: 1563.3878 - 1s/epoch - 843us/step\n",
      "Epoch 20/35\n",
      "1358/1358 - 1s - loss: 1488.4410 - mae: 21.7715 - mse: 1488.4410 - val_loss: 1525.6827 - val_mae: 23.7125 - val_mse: 1525.6827 - 1s/epoch - 849us/step\n",
      "Epoch 21/35\n",
      "1358/1358 - 1s - loss: 1487.8982 - mae: 21.6987 - mse: 1487.8982 - val_loss: 1610.3585 - val_mae: 20.7399 - val_mse: 1610.3585 - 1s/epoch - 838us/step\n",
      "Epoch 22/35\n",
      "1358/1358 - 1s - loss: 1483.3796 - mae: 21.6459 - mse: 1483.3796 - val_loss: 1586.9485 - val_mae: 20.5460 - val_mse: 1586.9485 - 1s/epoch - 840us/step\n",
      "Epoch 23/35\n",
      "1358/1358 - 1s - loss: 1483.4517 - mae: 21.6141 - mse: 1483.4517 - val_loss: 1498.6627 - val_mae: 21.4724 - val_mse: 1498.6627 - 1s/epoch - 835us/step\n",
      "Epoch 24/35\n",
      "1358/1358 - 1s - loss: 1478.7845 - mae: 21.6000 - mse: 1478.7845 - val_loss: 1503.8870 - val_mae: 22.2564 - val_mse: 1503.8870 - 1s/epoch - 842us/step\n",
      "Epoch 25/35\n",
      "1358/1358 - 1s - loss: 1485.2213 - mae: 21.5747 - mse: 1485.2213 - val_loss: 1547.6998 - val_mae: 20.7847 - val_mse: 1547.6998 - 1s/epoch - 839us/step\n",
      "Epoch 26/35\n",
      "1358/1358 - 1s - loss: 1481.0088 - mae: 21.5481 - mse: 1481.0088 - val_loss: 1541.9402 - val_mae: 20.7525 - val_mse: 1541.9402 - 1s/epoch - 834us/step\n",
      "Epoch 27/35\n",
      "1358/1358 - 1s - loss: 1474.7317 - mae: 21.5566 - mse: 1474.7317 - val_loss: 1567.8276 - val_mae: 20.6600 - val_mse: 1567.8276 - 1s/epoch - 837us/step\n",
      "Epoch 28/35\n",
      "1358/1358 - 1s - loss: 1479.1768 - mae: 21.4979 - mse: 1479.1768 - val_loss: 1548.1423 - val_mae: 20.9190 - val_mse: 1548.1423 - 1s/epoch - 838us/step\n",
      "Epoch 29/35\n",
      "1358/1358 - 1s - loss: 1477.6466 - mae: 21.4745 - mse: 1477.6466 - val_loss: 1500.0125 - val_mae: 22.4721 - val_mse: 1500.0125 - 1s/epoch - 854us/step\n",
      "Epoch 30/35\n",
      "1358/1358 - 1s - loss: 1474.7732 - mae: 21.4664 - mse: 1474.7732 - val_loss: 1500.8982 - val_mae: 21.3537 - val_mse: 1500.8982 - 1s/epoch - 839us/step\n",
      "Epoch 31/35\n",
      "1358/1358 - 1s - loss: 1480.5186 - mae: 21.5783 - mse: 1480.5186 - val_loss: 1506.5028 - val_mae: 21.5329 - val_mse: 1506.5028 - 1s/epoch - 850us/step\n",
      "Epoch 32/35\n",
      "1358/1358 - 1s - loss: 1472.4425 - mae: 21.5338 - mse: 1472.4425 - val_loss: 1511.3903 - val_mae: 21.1641 - val_mse: 1511.3903 - 1s/epoch - 852us/step\n",
      "Epoch 33/35\n",
      "1358/1358 - 1s - loss: 1482.0868 - mae: 21.5101 - mse: 1482.0868 - val_loss: 1503.7776 - val_mae: 21.3403 - val_mse: 1503.7776 - 1s/epoch - 839us/step\n",
      "Epoch 34/35\n",
      "1358/1358 - 1s - loss: 1477.4181 - mae: 21.4099 - mse: 1477.4181 - val_loss: 1504.7831 - val_mae: 22.1973 - val_mse: 1504.7831 - 1s/epoch - 840us/step\n",
      "Epoch 35/35\n",
      "1358/1358 - 1s - loss: 1475.7095 - mae: 21.4189 - mse: 1475.7095 - val_loss: 1520.3469 - val_mae: 22.5855 - val_mse: 1520.3469 - 1s/epoch - 840us/step\n",
      "107/107 - 0s - loss: 1545.4987 - mae: 22.4258 - mse: 1545.4987 - 366ms/epoch - 3ms/step\n",
      "107/107 [==============================] - 0s 613us/step\n",
      "1/1 [==============================] - 0s 14ms/step\n"
     ]
    },
    {
     "data": {
      "text/plain": [
       "101.0474"
      ]
     },
     "execution_count": 24,
     "metadata": {},
     "output_type": "execute_result"
    }
   ],
   "source": [
    "# Crear el modelo\n",
    "model = keras.Sequential([\n",
    "    layers.Dense(100, activation='relu', input_shape=[9]),\n",
    "    layers.Dense(50, activation='relu'),\n",
    "    layers.Dense(50, activation='relu'),\n",
    "    layers.Dense(25, activation='relu'),\n",
    "    layers.Dense(1)\n",
    "])\n",
    "# Compilar el modelo\n",
    "model.compile(loss='mse', optimizer=tf.keras.optimizers.RMSprop(0.001), metrics=['mae', 'mse'])\n",
    "# Entrenar el modelo\n",
    "history = model.fit(X_train, y_train, validation_split=0.2, epochs=35, batch_size=8,verbose=2)\n",
    "# Evaluar el modelo\n",
    "loss, mae, mse = model.evaluate(X_test,y_test, verbose=2)\n",
    "# Hacer predicciones con el modelo\n",
    "predictions = model.predict(X_test)\n",
    "#Realizando las prediccion\n",
    "# 14 83 86\t111\t 91\t96.262173\t96\t0\t0\t1\n",
    "# 9\t 66 73\t104\t105\t96.390395\t96\t0\t1\t1\n",
    "# 9\t101 84\t123\t 83\t96.003940\t99\t0\t0\t1\n",
    "#x_input=[[14,86,111,91,96.26,96,0,0,1], #83\n",
    "#         [9,73,104,105,96.39,96,0,0,1], #66\n",
    "#         [9,84,123,83,96.00,99,0,0,1]] #101\n",
    "x_input=[9,84,123,83,96.00,99,0,0,1]\n",
    "xx = np.array(x_input).reshape(1,-1)\n",
    "sc_input=sc.transform(xx)\n",
    "pred = model.predict(sc_input)\n",
    "pred[0][0] # mae 21.5786"
   ]
  },
  {
   "cell_type": "code",
   "execution_count": 25,
   "metadata": {},
   "outputs": [],
   "source": [
    "# Guardando el modelo\n",
    "model.save('model4.h5')"
   ]
  },
  {
   "cell_type": "code",
   "execution_count": 26,
   "metadata": {},
   "outputs": [],
   "source": [
    "# Cargando modelo grabado\n",
    "new_model = keras.models.load_model('model4.h5')"
   ]
  },
  {
   "cell_type": "code",
   "execution_count": 30,
   "metadata": {},
   "outputs": [
    {
     "name": "stdout",
     "output_type": "stream",
     "text": [
      "1/1 [==============================] - 0s 16ms/step\n"
     ]
    },
    {
     "data": {
      "text/plain": [
       "array([[ 99.44219],\n",
       "       [ 65.37765],\n",
       "       [101.04738]], dtype=float32)"
      ]
     },
     "execution_count": 30,
     "metadata": {},
     "output_type": "execute_result"
    }
   ],
   "source": [
    "# Realizando prediccion empleando el modelo guardado\n",
    "x_input=[[14,86,111,91,96.26,96,0,0,1], #83\n",
    "         [9,73,104,105,96.39,96,0,0,1], #66\n",
    "         [9,84,123,83,96.00,99,0,0,1]] #101\n",
    "sc_input=sc.transform(x_input)\n",
    "pred1 = new_model.predict(sc_input)\n",
    "pred1\n",
    "\n"
   ]
  },
  {
   "cell_type": "code",
   "execution_count": 1,
   "metadata": {},
   "outputs": [
    {
     "data": {
      "text/html": [
       "<div>\n",
       "<style scoped>\n",
       "    .dataframe tbody tr th:only-of-type {\n",
       "        vertical-align: middle;\n",
       "    }\n",
       "\n",
       "    .dataframe tbody tr th {\n",
       "        vertical-align: top;\n",
       "    }\n",
       "\n",
       "    .dataframe thead th {\n",
       "        text-align: right;\n",
       "    }\n",
       "</style>\n",
       "<table border=\"1\" class=\"dataframe\">\n",
       "  <thead>\n",
       "    <tr style=\"text-align: right;\">\n",
       "      <th></th>\n",
       "      <th>id_usuario</th>\n",
       "      <th>fecha</th>\n",
       "      <th>hora</th>\n",
       "      <th>edad</th>\n",
       "      <th>diastolica</th>\n",
       "      <th>sistolica</th>\n",
       "      <th>frecuencia_c</th>\n",
       "      <th>temperatura</th>\n",
       "      <th>saturacion</th>\n",
       "      <th>sudoracion</th>\n",
       "      <th>temblores</th>\n",
       "      <th>diabetico</th>\n",
       "      <th>glucosa</th>\n",
       "    </tr>\n",
       "  </thead>\n",
       "  <tbody>\n",
       "    <tr>\n",
       "      <th>0</th>\n",
       "      <td>000000000</td>\n",
       "      <td>02/05/2023</td>\n",
       "      <td>15:42</td>\n",
       "      <td>0</td>\n",
       "      <td>0</td>\n",
       "      <td>0</td>\n",
       "      <td>0</td>\n",
       "      <td>0.0</td>\n",
       "      <td>0</td>\n",
       "      <td>0</td>\n",
       "      <td>0</td>\n",
       "      <td>0</td>\n",
       "      <td>0</td>\n",
       "    </tr>\n",
       "  </tbody>\n",
       "</table>\n",
       "</div>"
      ],
      "text/plain": [
       "  id_usuario       fecha   hora  edad  diastolica  sistolica  frecuencia_c  \\\n",
       "0  000000000  02/05/2023  15:42     0           0          0             0   \n",
       "\n",
       "   temperatura  saturacion  sudoracion  temblores  diabetico  glucosa  \n",
       "0          0.0           0           0          0          0        0  "
      ]
     },
     "execution_count": 1,
     "metadata": {},
     "output_type": "execute_result"
    }
   ],
   "source": [
    "import pandas as pd\n",
    "import numpy as np\n",
    "from datetime import datetime\n",
    "import json\n",
    "df_historia = pd.DataFrame(columns = ['id_usuario',\n",
    "                'fecha',\n",
    "                'hora',\n",
    "                'edad',\n",
    "                'diastolica',\n",
    "                'sistolica',\n",
    "                'frecuencia_c',\n",
    "                'temperatura',\n",
    "                'saturacion',\n",
    "                'sudoracion',\n",
    "                'temblores',\n",
    "                'diabetico',\n",
    "                'glucosa'])\n",
    "\n",
    "ahora = datetime.now()\n",
    "\n",
    "lista =['000000000',str(ahora.strftime('%d/%m/%Y')),ahora.strftime('%H:%M'),0,0,0,0,0.00,0,0,0,0,0] \n",
    "df_historia.loc[0] = lista\n",
    "\n",
    "df_historia.head()\n"
   ]
  },
  {
   "cell_type": "code",
   "execution_count": 10,
   "metadata": {},
   "outputs": [
    {
     "data": {
      "text/html": [
       "<div>\n",
       "<style scoped>\n",
       "    .dataframe tbody tr th:only-of-type {\n",
       "        vertical-align: middle;\n",
       "    }\n",
       "\n",
       "    .dataframe tbody tr th {\n",
       "        vertical-align: top;\n",
       "    }\n",
       "\n",
       "    .dataframe thead th {\n",
       "        text-align: right;\n",
       "    }\n",
       "</style>\n",
       "<table border=\"1\" class=\"dataframe\">\n",
       "  <thead>\n",
       "    <tr style=\"text-align: right;\">\n",
       "      <th></th>\n",
       "      <th>id_usuario</th>\n",
       "      <th>fecha</th>\n",
       "      <th>hora</th>\n",
       "      <th>edad</th>\n",
       "      <th>diastolica</th>\n",
       "      <th>sistolica</th>\n",
       "      <th>frecuencia_c</th>\n",
       "      <th>temperatura</th>\n",
       "      <th>saturacion</th>\n",
       "      <th>sudoracion</th>\n",
       "      <th>temblores</th>\n",
       "      <th>diabetico</th>\n",
       "      <th>glucosa</th>\n",
       "    </tr>\n",
       "  </thead>\n",
       "  <tbody>\n",
       "    <tr>\n",
       "      <th>0</th>\n",
       "      <td>000000000</td>\n",
       "      <td>27/04/2023</td>\n",
       "      <td>16:16</td>\n",
       "      <td>0</td>\n",
       "      <td>0</td>\n",
       "      <td>0</td>\n",
       "      <td>0</td>\n",
       "      <td>0.0</td>\n",
       "      <td>0</td>\n",
       "      <td>0</td>\n",
       "      <td>0</td>\n",
       "      <td>0</td>\n",
       "      <td>0</td>\n",
       "    </tr>\n",
       "    <tr>\n",
       "      <th>1</th>\n",
       "      <td>000000000</td>\n",
       "      <td>27/04/2023</td>\n",
       "      <td>16:16</td>\n",
       "      <td>0</td>\n",
       "      <td>0</td>\n",
       "      <td>0</td>\n",
       "      <td>0</td>\n",
       "      <td>0.0</td>\n",
       "      <td>0</td>\n",
       "      <td>0</td>\n",
       "      <td>0</td>\n",
       "      <td>0</td>\n",
       "      <td>0</td>\n",
       "    </tr>\n",
       "    <tr>\n",
       "      <th>2</th>\n",
       "      <td>000000000</td>\n",
       "      <td>27/04/2023</td>\n",
       "      <td>16:16</td>\n",
       "      <td>0</td>\n",
       "      <td>0</td>\n",
       "      <td>0</td>\n",
       "      <td>0</td>\n",
       "      <td>0.0</td>\n",
       "      <td>0</td>\n",
       "      <td>0</td>\n",
       "      <td>0</td>\n",
       "      <td>0</td>\n",
       "      <td>0</td>\n",
       "    </tr>\n",
       "  </tbody>\n",
       "</table>\n",
       "</div>"
      ],
      "text/plain": [
       "  id_usuario       fecha   hora  edad  diastolica  sistolica  frecuencia_c  \\\n",
       "0  000000000  27/04/2023  16:16     0           0          0             0   \n",
       "1  000000000  27/04/2023  16:16     0           0          0             0   \n",
       "2  000000000  27/04/2023  16:16     0           0          0             0   \n",
       "\n",
       "   temperatura  saturacion  sudoracion  temblores  diabetico  glucosa  \n",
       "0          0.0           0           0          0          0        0  \n",
       "1          0.0           0           0          0          0        0  \n",
       "2          0.0           0           0          0          0        0  "
      ]
     },
     "execution_count": 10,
     "metadata": {},
     "output_type": "execute_result"
    }
   ],
   "source": [
    "df_historia.head()"
   ]
  },
  {
   "cell_type": "code",
   "execution_count": 14,
   "metadata": {},
   "outputs": [],
   "source": [
    "df_h = pd.read_json('https://storage.googleapis.com/bucket_glucosa_bot/historia.json',encoding='utf-8')"
   ]
  },
  {
   "cell_type": "code",
   "execution_count": 15,
   "metadata": {},
   "outputs": [
    {
     "data": {
      "text/html": [
       "<div>\n",
       "<style scoped>\n",
       "    .dataframe tbody tr th:only-of-type {\n",
       "        vertical-align: middle;\n",
       "    }\n",
       "\n",
       "    .dataframe tbody tr th {\n",
       "        vertical-align: top;\n",
       "    }\n",
       "\n",
       "    .dataframe thead th {\n",
       "        text-align: right;\n",
       "    }\n",
       "</style>\n",
       "<table border=\"1\" class=\"dataframe\">\n",
       "  <thead>\n",
       "    <tr style=\"text-align: right;\">\n",
       "      <th></th>\n",
       "      <th>id_usuario</th>\n",
       "      <th>fecha</th>\n",
       "      <th>hora</th>\n",
       "      <th>edad</th>\n",
       "      <th>diastolica</th>\n",
       "      <th>sistolica</th>\n",
       "      <th>frecuencia_c</th>\n",
       "      <th>temperatura</th>\n",
       "      <th>saturacion</th>\n",
       "      <th>sudoracion</th>\n",
       "      <th>temblores</th>\n",
       "      <th>diabetico</th>\n",
       "      <th>glucosa</th>\n",
       "    </tr>\n",
       "  </thead>\n",
       "  <tbody>\n",
       "    <tr>\n",
       "      <th>0</th>\n",
       "      <td>0</td>\n",
       "      <td>26/04/2023</td>\n",
       "      <td>13:29</td>\n",
       "      <td>0</td>\n",
       "      <td>0</td>\n",
       "      <td>0</td>\n",
       "      <td>0</td>\n",
       "      <td>0.0</td>\n",
       "      <td>0</td>\n",
       "      <td>0</td>\n",
       "      <td>0</td>\n",
       "      <td>0</td>\n",
       "      <td>0.000000</td>\n",
       "    </tr>\n",
       "    <tr>\n",
       "      <th>1</th>\n",
       "      <td>6077785968923242</td>\n",
       "      <td>29/04/2023</td>\n",
       "      <td>05:42</td>\n",
       "      <td>35</td>\n",
       "      <td>80</td>\n",
       "      <td>120</td>\n",
       "      <td>80</td>\n",
       "      <td>95.0</td>\n",
       "      <td>90</td>\n",
       "      <td>0</td>\n",
       "      <td>0</td>\n",
       "      <td>0</td>\n",
       "      <td>84.820000</td>\n",
       "    </tr>\n",
       "    <tr>\n",
       "      <th>2</th>\n",
       "      <td>6077785968923242</td>\n",
       "      <td>29/04/2023</td>\n",
       "      <td>06:09</td>\n",
       "      <td>25</td>\n",
       "      <td>80</td>\n",
       "      <td>120</td>\n",
       "      <td>80</td>\n",
       "      <td>96.8</td>\n",
       "      <td>80</td>\n",
       "      <td>0</td>\n",
       "      <td>0</td>\n",
       "      <td>1</td>\n",
       "      <td>52.200001</td>\n",
       "    </tr>\n",
       "    <tr>\n",
       "      <th>3</th>\n",
       "      <td>6077785968923242</td>\n",
       "      <td>29/04/2023</td>\n",
       "      <td>06:28</td>\n",
       "      <td>40</td>\n",
       "      <td>60</td>\n",
       "      <td>90</td>\n",
       "      <td>60</td>\n",
       "      <td>95.0</td>\n",
       "      <td>90</td>\n",
       "      <td>0</td>\n",
       "      <td>0</td>\n",
       "      <td>1</td>\n",
       "      <td>38.340000</td>\n",
       "    </tr>\n",
       "    <tr>\n",
       "      <th>4</th>\n",
       "      <td>6077785968923242</td>\n",
       "      <td>29/04/2023</td>\n",
       "      <td>12:47</td>\n",
       "      <td>25</td>\n",
       "      <td>60</td>\n",
       "      <td>120</td>\n",
       "      <td>99</td>\n",
       "      <td>98.6</td>\n",
       "      <td>90</td>\n",
       "      <td>0</td>\n",
       "      <td>0</td>\n",
       "      <td>0</td>\n",
       "      <td>84.059998</td>\n",
       "    </tr>\n",
       "    <tr>\n",
       "      <th>5</th>\n",
       "      <td>6077785968923242</td>\n",
       "      <td>29/04/2023</td>\n",
       "      <td>12:59</td>\n",
       "      <td>1</td>\n",
       "      <td>500</td>\n",
       "      <td>10</td>\n",
       "      <td>2</td>\n",
       "      <td>96.8</td>\n",
       "      <td>99</td>\n",
       "      <td>0</td>\n",
       "      <td>0</td>\n",
       "      <td>1</td>\n",
       "      <td>348.190002</td>\n",
       "    </tr>\n",
       "    <tr>\n",
       "      <th>6</th>\n",
       "      <td>6077785968923242</td>\n",
       "      <td>29/04/2023</td>\n",
       "      <td>15:50</td>\n",
       "      <td>100</td>\n",
       "      <td>80</td>\n",
       "      <td>120</td>\n",
       "      <td>80</td>\n",
       "      <td>95.0</td>\n",
       "      <td>99</td>\n",
       "      <td>0</td>\n",
       "      <td>0</td>\n",
       "      <td>1</td>\n",
       "      <td>108.190002</td>\n",
       "    </tr>\n",
       "    <tr>\n",
       "      <th>7</th>\n",
       "      <td>6077785968923242</td>\n",
       "      <td>29/04/2023</td>\n",
       "      <td>22:36</td>\n",
       "      <td>36</td>\n",
       "      <td>60</td>\n",
       "      <td>180</td>\n",
       "      <td>80</td>\n",
       "      <td>95.0</td>\n",
       "      <td>99</td>\n",
       "      <td>0</td>\n",
       "      <td>0</td>\n",
       "      <td>0</td>\n",
       "      <td>79.940002</td>\n",
       "    </tr>\n",
       "  </tbody>\n",
       "</table>\n",
       "</div>"
      ],
      "text/plain": [
       "         id_usuario       fecha   hora  edad  diastolica  sistolica  \\\n",
       "0                 0  26/04/2023  13:29     0           0          0   \n",
       "1  6077785968923242  29/04/2023  05:42    35          80        120   \n",
       "2  6077785968923242  29/04/2023  06:09    25          80        120   \n",
       "3  6077785968923242  29/04/2023  06:28    40          60         90   \n",
       "4  6077785968923242  29/04/2023  12:47    25          60        120   \n",
       "5  6077785968923242  29/04/2023  12:59     1         500         10   \n",
       "6  6077785968923242  29/04/2023  15:50   100          80        120   \n",
       "7  6077785968923242  29/04/2023  22:36    36          60        180   \n",
       "\n",
       "   frecuencia_c  temperatura  saturacion  sudoracion  temblores  diabetico  \\\n",
       "0             0          0.0           0           0          0          0   \n",
       "1            80         95.0          90           0          0          0   \n",
       "2            80         96.8          80           0          0          1   \n",
       "3            60         95.0          90           0          0          1   \n",
       "4            99         98.6          90           0          0          0   \n",
       "5             2         96.8          99           0          0          1   \n",
       "6            80         95.0          99           0          0          1   \n",
       "7            80         95.0          99           0          0          0   \n",
       "\n",
       "      glucosa  \n",
       "0    0.000000  \n",
       "1   84.820000  \n",
       "2   52.200001  \n",
       "3   38.340000  \n",
       "4   84.059998  \n",
       "5  348.190002  \n",
       "6  108.190002  \n",
       "7   79.940002  "
      ]
     },
     "execution_count": 15,
     "metadata": {},
     "output_type": "execute_result"
    }
   ],
   "source": [
    "df_h"
   ]
  },
  {
   "cell_type": "code",
   "execution_count": 24,
   "metadata": {},
   "outputs": [
    {
     "data": {
      "text/plain": [
       "0"
      ]
     },
     "execution_count": 24,
     "metadata": {},
     "output_type": "execute_result"
    }
   ],
   "source": [
    "df_usuario=df_h.loc[df_h['id_usuario'] == 6077785968923242]\n",
    "len(df_usuario)"
   ]
  },
  {
   "cell_type": "code",
   "execution_count": 23,
   "metadata": {},
   "outputs": [
    {
     "data": {
      "text/plain": [
       "108.1900024414"
      ]
     },
     "execution_count": 23,
     "metadata": {},
     "output_type": "execute_result"
    }
   ],
   "source": [
    "df_usuario.loc[len(df_usuario.loc[df_h['id_usuario'] == 6077785968923242])-1]['glucosa']"
   ]
  },
  {
   "cell_type": "code",
   "execution_count": 7,
   "metadata": {},
   "outputs": [
    {
     "data": {
      "text/plain": [
       "2"
      ]
     },
     "execution_count": 7,
     "metadata": {},
     "output_type": "execute_result"
    }
   ],
   "source": [
    "len(df_historia)"
   ]
  },
  {
   "cell_type": "code",
   "execution_count": 9,
   "metadata": {},
   "outputs": [],
   "source": [
    "df_historia.loc[len(df_historia)]=lista"
   ]
  },
  {
   "cell_type": "code",
   "execution_count": 3,
   "metadata": {},
   "outputs": [
    {
     "name": "stdout",
     "output_type": "stream",
     "text": [
      "13:29\n"
     ]
    }
   ],
   "source": [
    "print(ahora.strftime('%H:%M'))"
   ]
  },
  {
   "cell_type": "code",
   "execution_count": 4,
   "metadata": {},
   "outputs": [
    {
     "name": "stdout",
     "output_type": "stream",
     "text": [
      "<class 'pandas.core.frame.DataFrame'>\n",
      "Int64Index: 1 entries, 0 to 0\n",
      "Data columns (total 13 columns):\n",
      " #   Column        Non-Null Count  Dtype  \n",
      "---  ------        --------------  -----  \n",
      " 0   id_usuario    1 non-null      object \n",
      " 1   fecha         1 non-null      object \n",
      " 2   hora          1 non-null      object \n",
      " 3   edad          1 non-null      int64  \n",
      " 4   diastolica    1 non-null      int64  \n",
      " 5   sistolica     1 non-null      int64  \n",
      " 6   frecuencia_c  1 non-null      int64  \n",
      " 7   temperatura   1 non-null      float64\n",
      " 8   saturacion    1 non-null      int64  \n",
      " 9   sudoracion    1 non-null      int64  \n",
      " 10  temblores     1 non-null      int64  \n",
      " 11  diabetico     1 non-null      int64  \n",
      " 12  glucosa       1 non-null      int64  \n",
      "dtypes: float64(1), int64(9), object(3)\n",
      "memory usage: 112.0+ bytes\n"
     ]
    }
   ],
   "source": [
    "df_historia.info()"
   ]
  },
  {
   "cell_type": "code",
   "execution_count": 5,
   "metadata": {},
   "outputs": [],
   "source": [
    "df_historia.to_json('historia.json')"
   ]
  },
  {
   "cell_type": "code",
   "execution_count": 6,
   "metadata": {},
   "outputs": [],
   "source": [
    "historia_str = df_historia.to_json()\n",
    "historia = json.loads(historia_str)"
   ]
  },
  {
   "cell_type": "code",
   "execution_count": 9,
   "metadata": {},
   "outputs": [
    {
     "data": {
      "text/plain": [
       "dict"
      ]
     },
     "execution_count": 9,
     "metadata": {},
     "output_type": "execute_result"
    }
   ],
   "source": [
    "type(historia)"
   ]
  },
  {
   "cell_type": "code",
   "execution_count": 59,
   "metadata": {},
   "outputs": [],
   "source": [
    "historia[\"id_usuario\"][\"1\"]={\"4564564564\"}"
   ]
  },
  {
   "cell_type": "code",
   "execution_count": 10,
   "metadata": {},
   "outputs": [
    {
     "data": {
      "text/plain": [
       "{'id_usuario': {'0': '000000000'},\n",
       " 'fecha': {'0': '26/04/2023'},\n",
       " 'hora': {'0': '13:29'},\n",
       " 'edad': {'0': 0},\n",
       " 'diastolica': {'0': 0},\n",
       " 'sistolica': {'0': 0},\n",
       " 'frecuencia_c': {'0': 0},\n",
       " 'temperatura': {'0': 0.0},\n",
       " 'saturacion': {'0': 0},\n",
       " 'sudoracion': {'0': 0},\n",
       " 'temblores': {'0': 0},\n",
       " 'diabetico': {'0': 0},\n",
       " 'glucosa': {'0': 0}}"
      ]
     },
     "execution_count": 10,
     "metadata": {},
     "output_type": "execute_result"
    }
   ],
   "source": [
    "historia"
   ]
  },
  {
   "cell_type": "code",
   "execution_count": 40,
   "metadata": {},
   "outputs": [],
   "source": [
    "historia_df = pd.DataFrame(historia)"
   ]
  },
  {
   "cell_type": "code",
   "execution_count": 41,
   "metadata": {},
   "outputs": [
    {
     "data": {
      "text/html": [
       "<div>\n",
       "<style scoped>\n",
       "    .dataframe tbody tr th:only-of-type {\n",
       "        vertical-align: middle;\n",
       "    }\n",
       "\n",
       "    .dataframe tbody tr th {\n",
       "        vertical-align: top;\n",
       "    }\n",
       "\n",
       "    .dataframe thead th {\n",
       "        text-align: right;\n",
       "    }\n",
       "</style>\n",
       "<table border=\"1\" class=\"dataframe\">\n",
       "  <thead>\n",
       "    <tr style=\"text-align: right;\">\n",
       "      <th></th>\n",
       "      <th>id_usuario</th>\n",
       "      <th>fecha</th>\n",
       "      <th>hora</th>\n",
       "      <th>edad</th>\n",
       "      <th>diastolica</th>\n",
       "      <th>sistolica</th>\n",
       "      <th>frecuencia_c</th>\n",
       "      <th>temperatura</th>\n",
       "      <th>saturacion</th>\n",
       "      <th>sudoracion</th>\n",
       "      <th>temblores</th>\n",
       "      <th>diabetico</th>\n",
       "      <th>glucosa</th>\n",
       "    </tr>\n",
       "  </thead>\n",
       "  <tbody>\n",
       "    <tr>\n",
       "      <th>0</th>\n",
       "      <td>000000000</td>\n",
       "      <td>25/04/2023</td>\n",
       "      <td>13:09</td>\n",
       "      <td>0</td>\n",
       "      <td>0</td>\n",
       "      <td>0</td>\n",
       "      <td>0</td>\n",
       "      <td>0.0</td>\n",
       "      <td>0</td>\n",
       "      <td>0</td>\n",
       "      <td>0</td>\n",
       "      <td>0</td>\n",
       "      <td>0</td>\n",
       "    </tr>\n",
       "  </tbody>\n",
       "</table>\n",
       "</div>"
      ],
      "text/plain": [
       "  id_usuario       fecha   hora  edad  diastolica  sistolica  frecuencia_c  \\\n",
       "0  000000000  25/04/2023  13:09     0           0          0             0   \n",
       "\n",
       "   temperatura  saturacion  sudoracion  temblores  diabetico  glucosa  \n",
       "0          0.0           0           0          0          0        0  "
      ]
     },
     "execution_count": 41,
     "metadata": {},
     "output_type": "execute_result"
    }
   ],
   "source": [
    "historia_df.head()"
   ]
  },
  {
   "cell_type": "code",
   "execution_count": 42,
   "metadata": {},
   "outputs": [
    {
     "name": "stdout",
     "output_type": "stream",
     "text": [
      "<class 'pandas.core.frame.DataFrame'>\n",
      "Index: 1 entries, 0 to 0\n",
      "Data columns (total 13 columns):\n",
      " #   Column        Non-Null Count  Dtype  \n",
      "---  ------        --------------  -----  \n",
      " 0   id_usuario    1 non-null      object \n",
      " 1   fecha         1 non-null      object \n",
      " 2   hora          1 non-null      object \n",
      " 3   edad          1 non-null      int64  \n",
      " 4   diastolica    1 non-null      int64  \n",
      " 5   sistolica     1 non-null      int64  \n",
      " 6   frecuencia_c  1 non-null      int64  \n",
      " 7   temperatura   1 non-null      float64\n",
      " 8   saturacion    1 non-null      int64  \n",
      " 9   sudoracion    1 non-null      int64  \n",
      " 10  temblores     1 non-null      int64  \n",
      " 11  diabetico     1 non-null      int64  \n",
      " 12  glucosa       1 non-null      int64  \n",
      "dtypes: float64(1), int64(9), object(3)\n",
      "memory usage: 112.0+ bytes\n"
     ]
    }
   ],
   "source": [
    "historia_df.info()"
   ]
  },
  {
   "cell_type": "code",
   "execution_count": 6,
   "metadata": {},
   "outputs": [],
   "source": [
    "import pickle\n",
    "import pandas as pd\n",
    "from sklearn.neural_network import MLPClassifier\n",
    "from sklearn.model_selection import train_test_split\n",
    "from sklearn.metrics import accuracy_score, confusion_matrix"
   ]
  },
  {
   "cell_type": "code",
   "execution_count": 11,
   "metadata": {},
   "outputs": [
    {
     "ename": "TypeError",
     "evalue": "'numpy.ndarray' object is not callable",
     "output_type": "error",
     "traceback": [
      "\u001b[1;31m---------------------------------------------------------------------------\u001b[0m",
      "\u001b[1;31mTypeError\u001b[0m                                 Traceback (most recent call last)",
      "\u001b[1;32me:\\Jhoeliel\\DataScience - Proyectos\\Diabetes\\Diabetes.ipynb Cell 49\u001b[0m in \u001b[0;36m<cell line: 10>\u001b[1;34m()\u001b[0m\n\u001b[0;32m      <a href='vscode-notebook-cell:/e%3A/Jhoeliel/DataScience%20-%20Proyectos/Diabetes/Diabetes.ipynb#Y123sZmlsZQ%3D%3D?line=7'>8</a>\u001b[0m mlp\u001b[39m.\u001b[39mfit(X_train, y_train)\n\u001b[0;32m      <a href='vscode-notebook-cell:/e%3A/Jhoeliel/DataScience%20-%20Proyectos/Diabetes/Diabetes.ipynb#Y123sZmlsZQ%3D%3D?line=8'>9</a>\u001b[0m y_preds \u001b[39m=\u001b[39m mlp\u001b[39m.\u001b[39mpredict(X_test)\n\u001b[1;32m---> <a href='vscode-notebook-cell:/e%3A/Jhoeliel/DataScience%20-%20Proyectos/Diabetes/Diabetes.ipynb#Y123sZmlsZQ%3D%3D?line=9'>10</a>\u001b[0m confusion_matrix \u001b[39m=\u001b[39m confusion_matrix(y_test, y_preds)\n\u001b[0;32m     <a href='vscode-notebook-cell:/e%3A/Jhoeliel/DataScience%20-%20Proyectos/Diabetes/Diabetes.ipynb#Y123sZmlsZQ%3D%3D?line=10'>11</a>\u001b[0m accuracy_score \u001b[39m=\u001b[39m accuracy_score(y_test, y_preds)\n\u001b[0;32m     <a href='vscode-notebook-cell:/e%3A/Jhoeliel/DataScience%20-%20Proyectos/Diabetes/Diabetes.ipynb#Y123sZmlsZQ%3D%3D?line=11'>12</a>\u001b[0m \u001b[39mprint\u001b[39m(\u001b[39mf\u001b[39m\u001b[39m'\u001b[39m\u001b[39mPercentaje de acierto: \u001b[39m\u001b[39m{\u001b[39;00maccuracy_score\u001b[39m*\u001b[39m\u001b[39m100\u001b[39m\u001b[39m}\u001b[39;00m\u001b[39m%\u001b[39m\u001b[39m'\u001b[39m)\n",
      "\u001b[1;31mTypeError\u001b[0m: 'numpy.ndarray' object is not callable"
     ]
    }
   ],
   "source": [
    "#Carga de Dataset desde bucket GCP\n",
    "df = pd.read_csv('https://storage.googleapis.com/dataset_bucket_bot/glucosa.csv',delimiter=';',encoding='utf-8')\n",
    "df['diabetic'] = df['diabetic'].replace('D', 1).replace('N', 0)\n",
    "X = df.drop('glucose', axis=1)\n",
    "y = df['glucose']\n",
    "X_train, X_test, y_train, y_test = train_test_split(X, y, test_size=0.2)\n",
    "mlp = MLPClassifier(hidden_layer_sizes=(100, 50), activation='relu', solver='adam', alpha=0.001, batch_size=32, verbose=False, tol=0.001)\n",
    "mlp.fit(X_train, y_train)\n",
    "y_preds = mlp.predict(X_test)\n",
    "confusion_matrix = confusion_matrix(y_test, y_preds)\n",
    "accuracy_score = accuracy_score(y_test, y_preds)\n",
    "print(f'Percentaje de acierto: {accuracy_score*100}%')"
   ]
  },
  {
   "cell_type": "code",
   "execution_count": 4,
   "metadata": {},
   "outputs": [
    {
     "name": "stdout",
     "output_type": "stream",
     "text": [
      "b'c34e4e24ff2577d3e79d67fe07fa2567e56db48a1cfc020c77'\n"
     ]
    }
   ],
   "source": [
    "import os, binascii\n",
    "print(binascii.hexlify(os.urandom(25)))"
   ]
  },
  {
   "cell_type": "code",
   "execution_count": 14,
   "metadata": {},
   "outputs": [],
   "source": [
    "policy_text = open('Policy.txt',encoding=\"utf-8\",newline=None).read()"
   ]
  },
  {
   "cell_type": "code",
   "execution_count": 16,
   "metadata": {},
   "outputs": [
    {
     "name": "stdout",
     "output_type": "stream",
     "text": [
      "Tratamiento de datos a través de nuestra FanPage de Facebook\n",
      "\n",
      "Responsabilidad \n",
      "\n",
      "Operamos lo que se denomina una «FanPage» en la plataforma de red social Facebook, un servicio proporcionado por Facebook Ireland Ltd., 4 Grand Canal Square Grand Canal Harbour, Dublín 2, Irlanda, para comunicarnos con los visitantes activos en ella (= fans) que han marcado nuestra FanPage con un «Me gusta» y, entre otras cosas, informarles sobre nuestros productos y servicios. \n",
      "Hemos celebrado un acuerdo con Facebook sobre responsabilidad conjunta en virtud del art. 26 del RGPD, que regula la distribución de las obligaciones de protección de datos (https://www.facebook.com/legal/terms/page_controller_addendum). \n",
      "En particular, Facebook asume la obligación de informar a los visitantes, garantizar la seguridad de los datos y notificar violaciones de datos y es el contacto prioritario para que los propietarios de los datos ejerzan sus derechos. \n",
      "Datos de contacto de los corresponsables del tratamiento \n",
      "\n",
      "• Facebook Ireland Ltd. \n",
      "4 Grand Canal Square Grand Canal Harbour D2 Dublín Irlanda \n",
      "\n",
      "• Proyecto Diabetes Profiler\n",
      "Lima – Peru\n",
      "\n",
      "Bases legales \n",
      "\n",
      "El tratamiento de datos relativo a la operación de la FanPage se basa en nuestro interés legítimo de acuerdo con el art. 6, párrafo 1, oración 1, letra «f», del RGPD (información sobre nuestros productos y servicios; comunicación con los visitantes). Si Facebook obtiene el consentimiento de los visitantes para tratar sus datos (p. ej., marcando una casilla de verificación o haciendo clic en un botón), la base legal para el tratamiento de datos será el art. 6, párrafo 1, oración 1, letra «a», del RGPD.\n",
      "\n",
      "Fines del tratamiento de datos \n",
      "\n",
      "El tratamiento de la información generada por la herramienta Insights tiene como finalidad permitirnos recibir estadísticas que Facebook elabora sobre la base de las visitas a nuestra FanPage para controlar la comercialización de nuestras actividades. De esta forma, podemos conocer los perfiles de los visitantes y su comportamiento de uso de las aplicaciones disponibles en nuestra FanPage. Esto nos permite proporcionar contenido y funciones más relevantes dentro y fuera de Facebook que pueden ser de mayor interés para usted.\n",
      "Para que podamos identificar cómo podemos lograr mejor nuestros objetivos comerciales con nuestra FanPage, también se evalúan y ponen a nuestra disposición datos demográficos y geográficos sobre la base de la información recopilada. Podemos utilizar esta información para colocar anuncios personalizados sin tener conocimiento inmediato de la identidad del visitante. Si los visitantes usan Facebook en varios dispositivos, la recopilación y la evaluación podrán tener lugar en todos los dispositivos en los que los visitantes hayan iniciado sesión en su perfil. \n",
      "Dentro de los ajustes de preferencias publicitarias, los visitantes pueden influir en el alcance de la información recopilada sobre su comportamiento de uso cuando visitan nuestra página de Facebook (https://www.facebook.com/adpreferences/advertisers/). \n",
      "También utilizamos nuestra FanPage para comunicarnos con nuestros clientes, con partes interesadas y con visitantes de Facebook e informarles sobre nuestra gama de servicios. En este contexto, podemos recibir más información, por ejemplo, sobre la base de comentarios de visitantes, mensajes privados o la razón por la que nos sigue o comparte nuestro contenido. El tratamiento de datos tiene lugar exclusivamente con el propósito de comunicarnos e interactuar con usted.\n",
      "\n",
      "Categorías de datos\n",
      "\n",
      "Al operar una FanPage, se recopilan en particular los siguientes datos sobre el comportamiento de los visitantes:\n",
      "• Acceso a una página, una publicación o un vídeo desde una cierta página \n",
      "• Suscripción o cancelación de la suscripción a una página \n",
      "• Marcar una página o una publicación con «Me gusta» o «No me gusta» \n",
      "• Recomendar una página en una publicación o un comentario \n",
      "• Comentar o compartir una publicación de una página o responder a ella (incluida la forma de la respuesta) \n",
      "• Ocultar una publicación o marcarla como spam \n",
      "• Hacer clic en un enlace que lleva a la página desde otra página de Facebook o desde un sitio web fuera de Facebook \n",
      "• Pasar el ratón sobre el nombre o la imagen de perfil de una página para obtener una vista previa del contenido de la página \n",
      "• Hacer clic en el botón de página web, el botón de número de teléfono, el botón \n",
      "• «Planificar ruta» o cualquier otro botón de una página \n",
      "• Información sobre si ha iniciado sesión en un ordenador o un dispositivo móvil mientras visita una página o interactúa con ella o su contenido\n",
      "\n",
      "Si inicia sesión en Facebook como visitante, se almacenará una cookie con su identificador de Facebook en su dispositivo. Esto permite a Facebook saber que ha visitado la página y cómo la ha utilizado. Lo mismo se aplica al resto de las páginas de Facebook.\n",
      "Si desea evitarlo, debe cerrar su sesión de Facebook o desactivar la función «Permanecer conectado», eliminar las cookies de su dispositivo y cerrar y reiniciar su navegador. De esta forma, se eliminará la información de Facebook por la que se le pueda identificar directamente.\n",
      "Las estadísticas de visitantes elaboradas a través de Facebook Insights se nos transmiten exclusivamente de forma anónima. No tenemos acceso a los datos subyacentes\n",
      "\n",
      "Cookies y estadísticas \n",
      "\n",
      "Cuando visita nuestra FanPage, Facebook procesa cookies y recopila, entre otras cosas, su dirección IP (anonimizada según sus propias directrices) y otra información disponible en su PC en forma de cookies. Esta información se utiliza para proporcionarnos, como operador de la página de Facebook, información estadística sobre el uso de la página de Facebook. \n",
      "Facebook proporciona más información sobre ello en el siguiente enlace: https://www.facebook.com/help/pages/insights. Encontrará más información sobre el uso de cookies por parte de Facebook en https://www.facebook.com/policies/cookies/. Facebook ofrece la opción de eliminar las cookies mediante exclusión voluntaria: https://www.facebook.com/adpreferences/ad_settings/?entry_product=account_setting s_menu \n",
      "Existe la posibilidad de que Facebook cree entradas en Local Storage, un servicio de almacenamiento web mediante el que los sitios web y las aplicaciones de Javascript pueden guardar datos en el navegador, que se conservan incluso después de cerrar la ventana del navegador. Esto permite guardar más datos en el dispositivo sin una fecha de vencimiento que cuando se utilizan cookies. De esta forma, se puede reducir el flujo de datos entre cliente y servidor, lo que mejora el rendimiento de las aplicaciones.\n",
      "\n",
      "Plazo de conservación \n",
      "\n",
      "Facebook almacena datos hasta que ya no son necesarios para proporcionar los servicios y los productos de Facebook o hasta que se elimina la cuenta de visitante, según lo que ocurra primero. Esto se determina caso por caso y depende de criterios como el tipo de datos, el motivo de su recopilación y tratamiento o los requisitos de almacenamiento legales u operativos relevantes.\n",
      "\n",
      "Transmisión de datos \n",
      "\n",
      "Los datos de los visitantes son transmitidos por Facebook Ireland Ltd. a Facebook Inc., 1 Hacker Way, Menlo Park, CA 94025, EE. UU. Facebook recurre a las cláusulas contractuales estándar de la Unión Europea como base legal para la transmisión.\n",
      "\n",
      "Derechos del propietario de los datos \n",
      "\n",
      "Le señalamos que, si desea solicitar información o hacer valer algún otro de sus derechos como propietario de los datos conforme al RGPD, lo más efectivo es que contacte directamente con Facebook. Como operador de la FanPage, en general no tenemos acceso a los datos tratados por Facebook. Solo Facebook puede acceder a los datos del visitante y, por lo tanto, proporcionar información completa o aplicar otras medidas, como, por ejemplo, eliminar datos a petición de los visitantes. Para estos fines, Facebook pone a su disposición un formulario (https://www.facebook.com/help/contact/367438723733209). Puede contactar con nosotros en cualquier momento para que le ayudemos a hacer valer sus derechos como propietario de los datos.\n",
      "\n",
      "Como propietario de los datos, tiene en concreto los siguientes derechos: \n",
      "\n",
      "• Tiene derecho a recibir información y una copia de sus datos personales almacenados por nosotros en cualquier momento de forma gratuita (véase el art. 15 del RGPD). Tiene derecho a que se rectifiquen o completen sus datos en caso de que se hayan almacenado incorrectamente (véase el art. 16 del RGPD).\n",
      "• Tiene derecho a hacer que se restrinja el tratamiento de sus datos (véase el art. 18 del RGPD) y el derecho a que se eliminen sus datos (véase el art. 17 del RGPD). No podremos eliminar sus datos si estamos obligados a proseguir su almacenamiento para ejecutar el contrato o debido a otros requisitos legales de almacenamiento. En tales casos, bloquearemos sus datos en lugar de eliminarlos. \n",
      "• También tiene derecho a solicitar que le proporcionemos aquellos de sus datos que hayamos almacenado y a transferirlos a otra empresa o solicitar que los transfiramos nosotros mismos (véase el art. 20 del RGPD).\n",
      "• Tiene derecho a oponerse al tratamiento de sus datos en el futuro (véase el art. 21 del RGPD).\n",
      "• Además, tiene derecho a revocar su consentimiento para el futuro (véase el artículo 7, párrafo 3, del RGPD). \n",
      "• Puede dirigir sus quejas a las autoridades de supervisión competentes en materia de protección de datos (véase el art. 77 del RGPD): \n",
      "\n",
      "Autoridad responsable de protección de datos de Facebook dentro de la UE:\n",
      "Comisión de Protección de Datos \n",
      "Canal House, Station Road, Partarlington, Co. Laois, R32 AP23, Irlanda \n",
      "Teléfono: +353 (0761) 104 800 \n",
      "Número local: 1890 25 22 31 \n",
      "Fax: +353 57 868 4757\n",
      "E-mail: info@dataprotection.ie\n",
      "\n",
      "Autoridad responsable de protección de datos de Proyecto Diabetes Profiler: \n",
      "Autoridad Nacional de Protección de Datos Personales (ANPD) \n",
      "Scipión Llona 350 Lima - Lima - Miraflores - Perú \n",
      "Central Telefónica: (01) 204 8020 Anexo 1030\n",
      "E-mail: protegetusdatos@minjus.gob.pe\n",
      "\n",
      "En la política de privacidad de Facebook encontrará más información sobre la finalidad y el alcance de la recopilación y el tratamiento de datos, así como sobre sus derechos como propietario de los datos en el sentido del RGPD y sus opciones de oposición y configuración para proteger sus datos personales en Facebook:\n",
      "Facebook Ireland Ltd., 4 Grand Canal Square, Grand Canal Harbour, Dublín 2, Irlanda - Política de privacidad: \n",
      "https://www.facebook.com/about/privacy/. Política de privacidad completa: https://de-de.facebook.com/full_data_use_policy.\n",
      "\n"
     ]
    }
   ],
   "source": [
    "print(policy_text)"
   ]
  }
 ],
 "metadata": {
  "kernelspec": {
   "display_name": "Python 3",
   "language": "python",
   "name": "python3"
  },
  "language_info": {
   "codemirror_mode": {
    "name": "ipython",
    "version": 3
   },
   "file_extension": ".py",
   "mimetype": "text/x-python",
   "name": "python",
   "nbconvert_exporter": "python",
   "pygments_lexer": "ipython3",
   "version": "3.9.13"
  },
  "orig_nbformat": 4,
  "vscode": {
   "interpreter": {
    "hash": "110fe3fb9777db4ce1f884af3cc527a40b2c98427ad17781c021ef692bd3d28d"
   }
  }
 },
 "nbformat": 4,
 "nbformat_minor": 2
}
